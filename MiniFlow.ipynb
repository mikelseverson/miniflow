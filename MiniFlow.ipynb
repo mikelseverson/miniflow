{
 "cells": [
  {
   "cell_type": "code",
   "execution_count": null,
   "metadata": {
    "collapsed": true
   },
   "outputs": [],
   "source": [
    "class Node(object):\n",
    "    def __init__(self):\n",
    "        # Properties\n",
    "        # Node(s) to which this Node receives values from\n",
    "        self.inbound_nodes = inbound_nodes\n",
    "        # Nodes(s) to which this node passes values to\n",
    "        self.outbound_nodes = []\n",
    "        # For each node we received value from, add this node as an outbound node to _that_ node\n",
    "        for n in self.inbound_nodes:\n",
    "            n.outbound_nodes(self)\n",
    "            \n",
    "    def forward(self):\n",
    "        \"\"\"\n",
    "        Forward propagation.\n",
    "        \"\"\"\n",
    "        raise NotImplemented\n",
    "\n",
    "class Input(Node):\n",
    "    def __init__(self):\n",
    "        # an Input node has no inbound nodes,\n",
    "        # so  no need to pass anything to the Node generator\n",
    "        Node.__unit__(self)\n",
    "    \n",
    "    # NOTE: Input node is the only node that may receive\n",
    "    # it's value as an argument to forward\n",
    "    #\n",
    "    # All other node implementations should calculate their values from the\n",
    "    # value of the previous nodes using self.inbound_node\n",
    "    #\n",
    "    # Example:\n",
    "    # val0 = self.inbound_nodes[0].value\n",
    "    def forward(self, value=None)\n",
    "        if value is not None:\n",
    "            self.value = value\n",
    "            \n",
    "class Add(Node):\n",
    "    def __init__(self, x, y):\n",
    "        # You could access `x` and `y` in forward with\n",
    "        # self.inbound_nodes[0] (`x`) and self.inbound_nodes[1] (`y`)\n",
    "        Node.__init__(self, [x, y])\n",
    "    def forward(self)\n",
    "        x_value = self.inbound_nodes[0].value\n",
    "        y_value = self.inbound_nodes[1].value\n",
    "        self.value = x_value + y_value"
   ]
  }
 ],
 "metadata": {
  "anaconda-cloud": {},
  "kernelspec": {
   "display_name": "Python [default]",
   "language": "python",
   "name": "python3"
  },
  "language_info": {
   "codemirror_mode": {
    "name": "ipython",
    "version": 3
   },
   "file_extension": ".py",
   "mimetype": "text/x-python",
   "name": "python",
   "nbconvert_exporter": "python",
   "pygments_lexer": "ipython3",
   "version": "3.5.2"
  }
 },
 "nbformat": 4,
 "nbformat_minor": 1
}
